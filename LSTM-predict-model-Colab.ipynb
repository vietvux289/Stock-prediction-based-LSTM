{
  "metadata": {
    "kernelspec": {
      "language": "python",
      "display_name": "Python 3",
      "name": "python3"
    },
    "language_info": {
      "pygments_lexer": "ipython3",
      "nbconvert_exporter": "python",
      "version": "3.6.4",
      "file_extension": ".py",
      "codemirror_mode": {
        "name": "ipython",
        "version": 3
      },
      "name": "python",
      "mimetype": "text/x-python"
    },
    "colab": {
      "provenance": []
    }
  },
  "nbformat_minor": 0,
  "nbformat": 4,
  "cells": [
    {
      "cell_type": "markdown",
      "source": [
        "# <p style=\"font-family:JetBrains Mono; font-weight:normal; letter-spacing: 2px; color:#145f19; font-size:100%; text-align:center;padding: 0px; border-bottom: 3px solid #145f19\">Main purpose:</p>\n",
        "<a href=\"https://machinelearningknowledge.ai/keras-lstm-layer-explained-for-beginners-with-example/\"><img src=\"https://github.com/vainero/Files/blob/main/LSTM_logo.png?raw=true\" width=\"15%\" height=\"10%\" align=\"right\" /></a>\n",
        "\n",
        "\n",
        "* In this notebook, we will focus on the **[Long Short-Term Memory (LSTM)](https://bom.so/mGR5Nk)** layer model to predict if the stock of Netflix will go up or down in the period between 30/09/2021 - 29/09/2023 and give the forecast about the stock in next 30 days.\n",
        "\n",
        "* Historical daliy **[Netflix (NFLX)](https://finance.yahoo.com/)** stock price was collected from Yahoo Finance."
      ],
      "metadata": {
        "id": "-pD6t2mdQJsB"
      }
    },
    {
      "cell_type": "markdown",
      "source": [
        "# <p style=\"font-family:JetBrains Mono; font-weight:normal; letter-spacing: 2px; color:#145f19; font-size:100%; text-align:center;padding: 0px; border-bottom: 3px solid #145f19\">Import Libraries</p>"
      ],
      "metadata": {
        "id": "xHpb13gXQJsD"
      }
    },
    {
      "cell_type": "code",
      "source": [
        "# Import all libraries\n",
        "import pandas as pd\n",
        "import numpy as np\n",
        "import matplotlib.pyplot as plt\n",
        "from sklearn.preprocessing import MinMaxScaler\n",
        "from keras.models import Sequential, load_model\n",
        "from keras.layers import LSTM, Dense, Dropout\n",
        "%matplotlib inline"
      ],
      "metadata": {
        "execution": {
          "iopub.status.busy": "2023-01-10T14:45:58.921082Z",
          "iopub.execute_input": "2023-01-10T14:45:58.921848Z",
          "iopub.status.idle": "2023-01-10T14:46:04.068239Z",
          "shell.execute_reply.started": "2023-01-10T14:45:58.921748Z",
          "shell.execute_reply": "2023-01-10T14:46:04.067275Z"
        },
        "trusted": true,
        "id": "enuyO9pKQJsE"
      },
      "execution_count": null,
      "outputs": []
    },
    {
      "cell_type": "markdown",
      "source": [
        "# <p style=\"font-family:JetBrains Mono; font-weight:normal; letter-spacing: 2px; color:#145f19; font-size:100%; text-align:center;padding: 0px; border-bottom: 3px solid #145f19\">Loading Data</p>"
      ],
      "metadata": {
        "id": "6IYixHZIQJsG"
      }
    },
    {
      "cell_type": "code",
      "source": [
        "# Load data from file .csv\n",
        "data = pd.read_csv('/content/NFLX.csv')\n",
        "data.head()"
      ],
      "metadata": {
        "execution": {
          "iopub.status.busy": "2023-01-10T14:46:12.272773Z",
          "iopub.execute_input": "2023-01-10T14:46:12.273467Z",
          "iopub.status.idle": "2023-01-10T14:46:12.315508Z",
          "shell.execute_reply.started": "2023-01-10T14:46:12.27343Z",
          "shell.execute_reply": "2023-01-10T14:46:12.313934Z"
        },
        "trusted": true,
        "id": "JKgU1GIcQJsG"
      },
      "execution_count": null,
      "outputs": []
    },
    {
      "cell_type": "markdown",
      "source": [
        "<div style=\"border-radius:5px;\n",
        "            background-color:#ffffff;\n",
        "            border-style: solid;\n",
        "            border-color: #145f19;\n",
        "            letter-spacing:1px;             \n",
        "            font-size:16px;\n",
        "            padding: 10px;\">\n",
        "\n",
        "|<font color='#145f19'>Price</font> | <font color='#145f19'>Description</font>\n",
        "|:--- | :---|\n",
        "|<font color='darkred'>Open</font>| The price of the stock at the beginning of the trading day\n",
        "|<font color='darkred'>High</font>| The highest price of the stock on the trading day\n",
        "|<font color='darkred'>Low</font> | The lowest price of the stock on the trading day\n",
        "|<font color='darkred'>Close</font>| The last price of the stock before the trading day ends"
      ],
      "metadata": {
        "id": "DWXD2EjGQJsH"
      }
    },
    {
      "cell_type": "code",
      "source": [
        "# Convert the type of \"Date\" column into date-time\n",
        "data[\"Date\"] = pd.to_datetime(data[\"Date\"])\n",
        "print (data.dtypes)"
      ],
      "metadata": {
        "execution": {
          "iopub.status.busy": "2023-01-10T14:46:17.223525Z",
          "iopub.execute_input": "2023-01-10T14:46:17.22473Z",
          "iopub.status.idle": "2023-01-10T14:46:17.234632Z",
          "shell.execute_reply.started": "2023-01-10T14:46:17.224686Z",
          "shell.execute_reply": "2023-01-10T14:46:17.233669Z"
        },
        "trusted": true,
        "id": "5XsQ-M4kQJsH"
      },
      "execution_count": null,
      "outputs": []
    },
    {
      "cell_type": "code",
      "source": [
        "# Add the \"Year\", 'Month' and \"Day\" columns\n",
        "data[\"Year\"] = data[\"Date\"].apply(lambda x : str(x)[:4])\n",
        "data[\"Month\"] = data[\"Date\"].apply(lambda x : str(x)[5:7])\n",
        "data[\"Day\"] = data[\"Date\"].apply(lambda x : str(x)[8:10])\n",
        "\n",
        "data.head()"
      ],
      "metadata": {
        "execution": {
          "iopub.status.busy": "2023-01-10T14:46:18.884143Z",
          "iopub.execute_input": "2023-01-10T14:46:18.8845Z",
          "iopub.status.idle": "2023-01-10T14:46:18.97466Z",
          "shell.execute_reply.started": "2023-01-10T14:46:18.88447Z",
          "shell.execute_reply": "2023-01-10T14:46:18.973581Z"
        },
        "trusted": true,
        "id": "lIIMHpWUQJsH"
      },
      "execution_count": null,
      "outputs": []
    },
    {
      "cell_type": "markdown",
      "source": [
        "# <p style=\"font-family:JetBrains Mono; font-weight:normal; letter-spacing: 2px; color:#145f19; font-size:100%; text-align:center;padding: 0px; border-bottom: 3px solid #145f19\">Feature Extraction</p>"
      ],
      "metadata": {
        "id": "Kn7aW7COQJsI"
      }
    },
    {
      "cell_type": "code",
      "source": [
        "# Print the number of trading days\n",
        "print(f'Total number of trading days: {data.shape[0]}')\n",
        "print(f'Total number of fields: {data.shape[1]}')\n",
        "print('\\n')\n",
        "\n",
        "# Check the Null and NA values\n",
        "print(f'Null values: {data.isnull().values.sum()}')\n",
        "print(f'NA values: {data.isna().values.any()}')"
      ],
      "metadata": {
        "execution": {
          "iopub.status.busy": "2023-01-10T14:46:22.491712Z",
          "iopub.execute_input": "2023-01-10T14:46:22.492416Z",
          "iopub.status.idle": "2023-01-10T14:46:22.504292Z",
          "shell.execute_reply.started": "2023-01-10T14:46:22.492379Z",
          "shell.execute_reply": "2023-01-10T14:46:22.50298Z"
        },
        "trusted": true,
        "id": "R8pWk5vWQJsI"
      },
      "execution_count": null,
      "outputs": []
    },
    {
      "cell_type": "markdown",
      "source": [
        "* We will select from the dataset the **Open** column represents the starting price of the stock for a particular day."
      ],
      "metadata": {
        "id": "fBJ3aVnwQJsI"
      }
    },
    {
      "cell_type": "code",
      "source": [
        "# Create a new dataframe with only the Open column and convert it into a NumPy array\n",
        "data = data['Open'].values\n",
        "\n",
        "# Reshape the data\n",
        "data = data.reshape(-1, 1)"
      ],
      "metadata": {
        "execution": {
          "iopub.status.busy": "2023-01-10T14:46:40.183648Z",
          "iopub.execute_input": "2023-01-10T14:46:40.184035Z",
          "iopub.status.idle": "2023-01-10T14:46:40.189601Z",
          "shell.execute_reply.started": "2023-01-10T14:46:40.184002Z",
          "shell.execute_reply": "2023-01-10T14:46:40.188404Z"
        },
        "trusted": true,
        "id": "hqHzfu1WQJsI"
      },
      "execution_count": null,
      "outputs": []
    },
    {
      "cell_type": "code",
      "source": [
        "# Split the data into training and testing sets\n",
        "dataset_train = np.array(data[:int(data.shape[0]*0.8)])\n",
        "dataset_test = np.array(data[int(data.shape[0]*0.8):])"
      ],
      "metadata": {
        "execution": {
          "iopub.status.busy": "2023-01-10T14:46:43.74361Z",
          "iopub.execute_input": "2023-01-10T14:46:43.744014Z",
          "iopub.status.idle": "2023-01-10T14:46:43.749192Z",
          "shell.execute_reply.started": "2023-01-10T14:46:43.74398Z",
          "shell.execute_reply": "2023-01-10T14:46:43.74827Z"
        },
        "trusted": true,
        "id": "5hggkjuaQJsI"
      },
      "execution_count": null,
      "outputs": []
    },
    {
      "cell_type": "markdown",
      "source": [
        "* To produce the best-optimized results, we are required to scale the data.\n",
        "\n",
        "* For this task, we are leveraging scikit-learn library’s **MinMaxScaler()** for converting the input values between 0 to 1."
      ],
      "metadata": {
        "id": "hKj3b6BjQJsJ"
      }
    },
    {
      "cell_type": "code",
      "source": [
        "# Scale the data\n",
        "scaler = MinMaxScaler(feature_range=(0,1))\n",
        "\n",
        "dataset_train = scaler.fit_transform(dataset_train)\n",
        "dataset_test = scaler.transform(dataset_test)"
      ],
      "metadata": {
        "execution": {
          "iopub.status.busy": "2023-01-10T14:46:58.283388Z",
          "iopub.execute_input": "2023-01-10T14:46:58.283775Z",
          "iopub.status.idle": "2023-01-10T14:46:58.291007Z",
          "shell.execute_reply.started": "2023-01-10T14:46:58.28374Z",
          "shell.execute_reply": "2023-01-10T14:46:58.290027Z"
        },
        "trusted": true,
        "id": "eANda2nRQJsJ"
      },
      "execution_count": null,
      "outputs": []
    },
    {
      "cell_type": "markdown",
      "source": [
        "* We will create the helper function with 50 timesteps. In other words, for the features(x) we'll append the last 50 prices, and for the label(y) we'll append the next price.\n",
        "\n",
        "* After that we will convert it into a NumPy array."
      ],
      "metadata": {
        "id": "00Gr4gdWQJsJ"
      }
    },
    {
      "cell_type": "code",
      "source": [
        "# Create the function that will help us to create the datasets\n",
        "def create_dataset(df):\n",
        "    x = []\n",
        "    y = []\n",
        "    for i in range(50, df.shape[0]):\n",
        "        x.append(df[i-50:i, 0])\n",
        "        y.append(df[i, 0])\n",
        "    x = np.array(x)\n",
        "    y = np.array(y)\n",
        "    return x,y"
      ],
      "metadata": {
        "execution": {
          "iopub.status.busy": "2023-01-10T14:47:11.23631Z",
          "iopub.execute_input": "2023-01-10T14:47:11.236667Z",
          "iopub.status.idle": "2023-01-10T14:47:11.24272Z",
          "shell.execute_reply.started": "2023-01-10T14:47:11.236635Z",
          "shell.execute_reply": "2023-01-10T14:47:11.241545Z"
        },
        "trusted": true,
        "id": "AvYTJu-FQJsJ"
      },
      "execution_count": null,
      "outputs": []
    },
    {
      "cell_type": "code",
      "source": [
        "# Create the training and testing data by calling our function for each one\n",
        "x_train, y_train = create_dataset(dataset_train)\n",
        "x_test, y_test = create_dataset(dataset_test)"
      ],
      "metadata": {
        "execution": {
          "iopub.status.busy": "2023-01-10T14:47:12.701679Z",
          "iopub.execute_input": "2023-01-10T14:47:12.702069Z",
          "iopub.status.idle": "2023-01-10T14:47:12.715569Z",
          "shell.execute_reply.started": "2023-01-10T14:47:12.702034Z",
          "shell.execute_reply": "2023-01-10T14:47:12.714434Z"
        },
        "trusted": true,
        "id": "nTFbfSEHQJsK"
      },
      "execution_count": null,
      "outputs": []
    },
    {
      "cell_type": "code",
      "source": [
        "# Reshape the data to make it a 3D array in order to use it in LSTM Layer\n",
        "x_train = np.reshape(x_train, (x_train.shape[0], x_train.shape[1], 1))\n",
        "x_test = np.reshape(x_test, (x_test.shape[0], x_test.shape[1], 1))"
      ],
      "metadata": {
        "execution": {
          "iopub.status.busy": "2023-01-10T14:47:13.073129Z",
          "iopub.execute_input": "2023-01-10T14:47:13.073939Z",
          "iopub.status.idle": "2023-01-10T14:47:13.079122Z",
          "shell.execute_reply.started": "2023-01-10T14:47:13.073878Z",
          "shell.execute_reply": "2023-01-10T14:47:13.077969Z"
        },
        "trusted": true,
        "id": "8gHETOFLQJsK"
      },
      "execution_count": null,
      "outputs": []
    },
    {
      "cell_type": "markdown",
      "source": [
        "# <p style=\"font-family:JetBrains Mono; font-weight:normal; letter-spacing: 2px; color:#145f19; font-size:100%; text-align:center;padding: 0px; border-bottom: 3px solid #145f19\">Building Model</p>\n",
        "* For the LSTM layer, we add **96 units** that represent the dimensionality of the output space.\n",
        "\n",
        "* The **return_sequences parameter** is set to **True** for returning the last output in output.\n",
        "\n",
        "* For the Dropout layers, we specify the percentage of layers is **20%** that should be dropped.\n",
        "\n",
        "* The next step is to add the Dense layer."
      ],
      "metadata": {
        "id": "VaHs4424QJsK"
      }
    },
    {
      "cell_type": "code",
      "source": [
        "#Build the model\n",
        "model = Sequential()\n",
        "model.add(LSTM(units=96, return_sequences=True, input_shape=(x_train.shape[1], 1)))\n",
        "model.add(Dropout(0.2))\n",
        "model.add(LSTM(units=96, return_sequences=True))\n",
        "model.add(Dropout(0.2))\n",
        "model.add(LSTM(units=96, return_sequences=True))\n",
        "model.add(Dropout(0.2))\n",
        "model.add(LSTM(units=96))\n",
        "model.add(Dropout(0.2))\n",
        "model.add(Dense(units=1))"
      ],
      "metadata": {
        "execution": {
          "iopub.status.busy": "2023-01-10T14:47:49.410674Z",
          "iopub.execute_input": "2023-01-10T14:47:49.411083Z",
          "iopub.status.idle": "2023-01-10T14:47:50.208686Z",
          "shell.execute_reply.started": "2023-01-10T14:47:49.411048Z",
          "shell.execute_reply": "2023-01-10T14:47:50.20768Z"
        },
        "trusted": true,
        "id": "5Hsn4ATTQJsK"
      },
      "execution_count": null,
      "outputs": []
    },
    {
      "cell_type": "code",
      "source": [
        "# Summary of the model\n",
        "model.summary()"
      ],
      "metadata": {
        "execution": {
          "iopub.status.busy": "2023-01-10T14:48:13.340642Z",
          "iopub.execute_input": "2023-01-10T14:48:13.341358Z",
          "iopub.status.idle": "2023-01-10T14:48:13.348286Z",
          "shell.execute_reply.started": "2023-01-10T14:48:13.341319Z",
          "shell.execute_reply": "2023-01-10T14:48:13.347135Z"
        },
        "trusted": true,
        "id": "u6LAZ0ypQJsK"
      },
      "execution_count": null,
      "outputs": []
    },
    {
      "cell_type": "code",
      "source": [
        "# Reshape the feature for the LSTM layer\n",
        "x_train = np.reshape(x_train, (x_train.shape[0], x_train.shape[1], 1)) # for expecting 3 dimentions, not 2\n",
        "x_test = np.reshape(x_test, (x_test.shape[0], x_test.shape[1], 1))"
      ],
      "metadata": {
        "execution": {
          "iopub.status.busy": "2023-01-10T14:48:16.627272Z",
          "iopub.execute_input": "2023-01-10T14:48:16.627637Z",
          "iopub.status.idle": "2023-01-10T14:48:16.632719Z",
          "shell.execute_reply.started": "2023-01-10T14:48:16.627604Z",
          "shell.execute_reply": "2023-01-10T14:48:16.631798Z"
        },
        "trusted": true,
        "id": "0CU2xr7RQJsK"
      },
      "execution_count": null,
      "outputs": []
    },
    {
      "cell_type": "markdown",
      "source": [
        "* We will compile the model with the help of **adam** optimizer.\n",
        "\n",
        "* The error is computed using **mean_squared_error**."
      ],
      "metadata": {
        "id": "bVhl3jX8QJsK"
      }
    },
    {
      "cell_type": "code",
      "source": [
        "# Compile the model\n",
        "model.compile(loss='mean_squared_error', optimizer='adam')"
      ],
      "metadata": {
        "id": "rHmgGnsPDOA2"
      },
      "execution_count": null,
      "outputs": []
    },
    {
      "cell_type": "markdown",
      "source": [
        "# <p style=\"font-family:JetBrains Mono; font-weight:normal; letter-spacing: 2px; color:#145f19; font-size:100%; text-align:center;padding: 0px; border-bottom: 3px solid #145f19\">Training Model</p>\n",
        "* With our model and data constructed, we can now train the model."
      ],
      "metadata": {
        "id": "TNCrLw_vQJsK"
      }
    },
    {
      "cell_type": "code",
      "source": [
        "# Define modifiable training hyperparameters\n",
        "epochs = 100\n",
        "batch_size = 32\n",
        "\n",
        "# start the training\n",
        "history = model.fit(x_train, y_train, epochs=epochs, batch_size=batch_size)\n",
        "\n",
        "# Print out the final loss\n",
        "final_loss = history.history['loss'][-1]\n",
        "print(f\"Final Loss: {final_loss}\")"
      ],
      "metadata": {
        "execution": {
          "iopub.status.busy": "2023-01-10T14:49:10.52507Z",
          "iopub.execute_input": "2023-01-10T14:49:10.525654Z",
          "iopub.status.idle": "2023-01-10T14:50:09.330515Z",
          "shell.execute_reply.started": "2023-01-10T14:49:10.525618Z",
          "shell.execute_reply": "2023-01-10T14:50:09.329541Z"
        },
        "trusted": true,
        "id": "ItoFbaRlQJsL"
      },
      "execution_count": null,
      "outputs": []
    },
    {
      "cell_type": "code",
      "source": [
        "#Extract loss values from the training history\n",
        "loss = history.history['loss']\n",
        "\n",
        "#Create a range of x values for the epochs\n",
        "epochs_range = range(1, epochs + 1)\n",
        "\n",
        "#Plot the loss and accuracy in the line graph\n",
        "plt.figure(figsize=(10, 6))\n",
        "plt.plot(epochs_range, loss, label='Training Loss', color='blue')\n",
        "plt.title('Training Loss Over Epochs')\n",
        "plt.xlabel('Epoch')\n",
        "plt.legend()\n",
        "plt.show()"
      ],
      "metadata": {
        "id": "AzkJGLIcchce"
      },
      "execution_count": null,
      "outputs": []
    },
    {
      "cell_type": "code",
      "source": [
        "#Save the model\n",
        "model.save('stock_prediction')"
      ],
      "metadata": {
        "id": "QXj7n3DMdl7b"
      },
      "execution_count": null,
      "outputs": []
    },
    {
      "cell_type": "code",
      "source": [
        "# Load the model\n",
        "model = load_model('stock_prediction')"
      ],
      "metadata": {
        "execution": {
          "iopub.status.busy": "2023-01-10T14:51:02.903253Z",
          "iopub.execute_input": "2023-01-10T14:51:02.903625Z",
          "iopub.status.idle": "2023-01-10T14:51:09.492543Z",
          "shell.execute_reply.started": "2023-01-10T14:51:02.903594Z",
          "shell.execute_reply": "2023-01-10T14:51:09.491533Z"
        },
        "trusted": true,
        "id": "E6XTymTaQJsL"
      },
      "execution_count": null,
      "outputs": []
    },
    {
      "cell_type": "markdown",
      "source": [
        "# <p style=\"font-family:JetBrains Mono; font-weight:normal; letter-spacing: 2px; color:#145f19; font-size:100%; text-align:center;padding: 0px; border-bottom: 3px solid #145f19\">Prediction Model</p>"
      ],
      "metadata": {
        "id": "85UJ8sFDQJsL"
      }
    },
    {
      "cell_type": "code",
      "source": [
        "#Prediction model\n",
        "predictions = model.predict(x_test)\n",
        "predictions = scaler.inverse_transform(predictions)\n",
        "y_test_scaled = scaler.inverse_transform(y_test.reshape(-1, 1))\n",
        "\n",
        "#Plotting Results\n",
        "fig, ax = plt.subplots(figsize=(20,15))\n",
        "ax.plot(y_test_scaled, color='blue', linewidth=2, label='Original price')\n",
        "plt.plot(predictions, color='orange', linewidth=2.5, label='Predicted price')\n",
        "plt.title('Netflix Stock Price Prediction')\n",
        "plt.legend();"
      ],
      "metadata": {
        "execution": {
          "iopub.status.busy": "2023-01-10T14:52:06.407683Z",
          "iopub.execute_input": "2023-01-10T14:52:06.408093Z",
          "iopub.status.idle": "2023-01-10T14:52:07.5584Z",
          "shell.execute_reply.started": "2023-01-10T14:52:06.408057Z",
          "shell.execute_reply": "2023-01-10T14:52:07.557302Z"
        },
        "trusted": true,
        "id": "3r4pxhVmQJsL"
      },
      "execution_count": null,
      "outputs": []
    },
    {
      "cell_type": "markdown",
      "source": [
        "# <p style=\"font-family:JetBrains Mono; font-weight:normal; letter-spacing: 2px; color:#145f19; font-size:100%; text-align:center;padding: 0px; border-bottom: 3px solid #145f19\">Prediction for Next 30 days</p>"
      ],
      "metadata": {
        "id": "TXhFJxL2rKeP"
      }
    },
    {
      "cell_type": "code",
      "source": [
        "#Next 30 days prediction\n",
        "time_step=100\n",
        "input_data=np.array(data[-time_step:])\n",
        "input_data=input_data.reshape([input_data.shape[0],1])\n",
        "\n",
        "# define predictions\n",
        "def predict(data,days=30):\n",
        "    data=scaler.transform(data)\n",
        "    predictions=[]\n",
        "    i=1\n",
        "    while(i<=days):\n",
        "        nxtday=model.predict([data],verbose=0)\n",
        "        predictions.append(scaler.inverse_transform(nxtday)[0])\n",
        "        data[:-1]=data[1:]\n",
        "        data[-1]=nxtday[0]\n",
        "        i+=1\n",
        "    return np.array(predictions).squeeze()\n",
        "\n",
        "#prediction\n",
        "days=30\n",
        "predictions=predict(input_data,days)\n",
        "\n",
        "trainPredPlot=np.zeros(shape=[len(input_data)+1+days])\n",
        "trainPredPlot[:]=np.nan\n",
        "trainPredPlot[len(input_data)]=input_data[-1]\n",
        "trainPredPlot[len(input_data)+1:]=predictions\n",
        "df_=input_data\n",
        "\n",
        "plt.plot(df_,label=\"Actual close price\")\n",
        "plt.plot(trainPredPlot,label=\"Predicted close price\")\n",
        "plt.legend()\n",
        "plt.show()"
      ],
      "metadata": {
        "id": "umuBgAB90K-h"
      },
      "execution_count": null,
      "outputs": []
    },
    {
      "cell_type": "markdown",
      "source": [
        "# <p style=\"font-family:JetBrains Mono; font-weight:normal; letter-spacing: 2px; color:#145f19; font-size:100%; text-align:center;padding: 0px; border-bottom: 3px solid #145f19\">Print out all metrics for evaluate the model</p>"
      ],
      "metadata": {
        "id": "kPkfMdVg_U48"
      }
    },
    {
      "cell_type": "code",
      "source": [
        "from sklearn.metrics import mean_squared_error, mean_absolute_error\n",
        "import math\n",
        "\n",
        "# Calculate the RMSE\n",
        "rmse = math.sqrt(mean_squared_error(y_test_scaled[:30], predictions))/ 100\n",
        "\n",
        "# Calculate the MAE\n",
        "mae = mean_absolute_error(y_test_scaled[:30], predictions)/ 100\n",
        "\n",
        "# Print the results\n",
        "print(f'MAE: {mae:.4f}')\n",
        "print(f'RMSE: {rmse:.4f}')\n"
      ],
      "metadata": {
        "id": "xQUUKnpOc0ch"
      },
      "execution_count": null,
      "outputs": []
    }
  ]
}